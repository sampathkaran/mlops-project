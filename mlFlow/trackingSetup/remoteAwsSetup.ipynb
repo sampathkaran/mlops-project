{
 "cells": [
  {
   "cell_type": "markdown",
   "id": "ec9f5654",
   "metadata": {},
   "source": [
    "Scenario: Multiple data scientists working on multiple ML models\n",
    "\n",
    "MLflow setup:\n",
    "\n",
    "Tracking Server: Remote(EC2)\n",
    "Backend Store: RDS\n",
    "Aritfact Store: S3"
   ]
  },
  {
   "cell_type": "code",
   "execution_count": 1,
   "id": "1e7c6f1d",
   "metadata": {},
   "outputs": [],
   "source": [
    "import mlflow"
   ]
  },
  {
   "cell_type": "code",
   "execution_count": 2,
   "id": "98d29555",
   "metadata": {},
   "outputs": [],
   "source": [
    "import os\n",
    "os.environ[\"AWS_PROFILE\"] = \"mlflow\""
   ]
  },
  {
   "cell_type": "code",
   "execution_count": 3,
   "id": "470914a1",
   "metadata": {},
   "outputs": [
    {
     "name": "stdout",
     "output_type": "stream",
     "text": [
      "Using AWS profile: mlflow\n",
      "['mlflow-artifacts-1988']\n"
     ]
    }
   ],
   "source": [
    "import boto3\n",
    "session = boto3.session.Session()\n",
    "print(\"Using AWS profile:\", session.profile_name)\n",
    "\n",
    "s3 = session.client(\"s3\")\n",
    "print([b[\"Name\"] for b in s3.list_buckets()[\"Buckets\"]])"
   ]
  },
  {
   "cell_type": "code",
   "execution_count": 4,
   "id": "9185bc31",
   "metadata": {},
   "outputs": [],
   "source": [
    "mlflow.set_tracking_uri(\"http://34.203.234.36:5000/\")"
   ]
  },
  {
   "cell_type": "code",
   "execution_count": 5,
   "id": "897e961c",
   "metadata": {},
   "outputs": [
    {
     "data": {
      "text/plain": [
       "'http://34.203.234.36:5000/'"
      ]
     },
     "execution_count": 5,
     "metadata": {},
     "output_type": "execute_result"
    }
   ],
   "source": [
    "mlflow.get_tracking_uri()"
   ]
  },
  {
   "cell_type": "code",
   "execution_count": 6,
   "id": "52f72b03",
   "metadata": {},
   "outputs": [
    {
     "data": {
      "text/plain": [
       "[<Experiment: artifact_location='s3://mlflow-artifacts-1988/1', creation_time=1752992979572, experiment_id='1', last_update_time=1752992979572, lifecycle_stage='active', name='my-experiment-1', tags={}>,\n",
       " <Experiment: artifact_location='s3://mlflow-artifacts-1988/0', creation_time=1752992523064, experiment_id='0', last_update_time=1752992523064, lifecycle_stage='active', name='Default', tags={}>]"
      ]
     },
     "execution_count": 6,
     "metadata": {},
     "output_type": "execute_result"
    }
   ],
   "source": [
    "mlflow.search_experiments()"
   ]
  },
  {
   "cell_type": "code",
   "execution_count": 7,
   "id": "145a182d",
   "metadata": {},
   "outputs": [
    {
     "name": "stderr",
     "output_type": "stream",
     "text": [
      "2025/07/20 07:00:41 WARNING mlflow.models.model: `artifact_path` is deprecated. Please use `name` instead.\n",
      "\u001b[31m2025/07/20 07:00:48 WARNING mlflow.models.model: Model logged without a signature and input example. Please set `input_example` parameter when logging the model to auto infer the model signature.\u001b[0m\n"
     ]
    },
    {
     "name": "stdout",
     "output_type": "stream",
     "text": [
      "default artifacts URI: 's3://mlflow-artifacts-1988/1/4e899ac410aa4d7a8c9d6e714346420e/artifacts'\n",
      "🏃 View run casual-wasp-286 at: http://34.203.234.36:5000/#/experiments/1/runs/4e899ac410aa4d7a8c9d6e714346420e\n",
      "🧪 View experiment at: http://34.203.234.36:5000/#/experiments/1\n"
     ]
    }
   ],
   "source": [
    "os.environ[\"AWS_PROFILE\"] = \"mlflow\"\n",
    "\n",
    "from sklearn.linear_model import LogisticRegression\n",
    "from sklearn.datasets import load_iris\n",
    "from sklearn.metrics import accuracy_score\n",
    "\n",
    "mlflow.set_experiment(\"my-experiment-1\")\n",
    "\n",
    "with mlflow.start_run():\n",
    "\n",
    "    X, y = load_iris(return_X_y=True)\n",
    "\n",
    "    params = {\"C\": 0.1, \"random_state\": 42}\n",
    "    mlflow.log_params(params)\n",
    "\n",
    "    lr = LogisticRegression(**params).fit(X, y)\n",
    "    y_pred = lr.predict(X)\n",
    "    mlflow.log_metric(\"accuracy\", accuracy_score(y, y_pred))\n",
    "\n",
    "    mlflow.sklearn.log_model(lr, artifact_path=\"models\")\n",
    "    print(f\"default artifacts URI: '{mlflow.get_artifact_uri()}'\")"
   ]
  },
  {
   "cell_type": "markdown",
   "id": "34dc968d",
   "metadata": {},
   "source": [
    "Interact with mlflow to register the model"
   ]
  },
  {
   "cell_type": "code",
   "execution_count": 8,
   "id": "65a4d677",
   "metadata": {},
   "outputs": [],
   "source": [
    "from mlflow.tracking import MlflowClient\n",
    "\n",
    "client = MlflowClient(\"http://34.203.234.36:5000/\")"
   ]
  },
  {
   "cell_type": "code",
   "execution_count": 9,
   "id": "bbe20991",
   "metadata": {},
   "outputs": [
    {
     "data": {
      "text/plain": [
       "[<Experiment: artifact_location='s3://mlflow-artifacts-1988/1', creation_time=1752992979572, experiment_id='1', last_update_time=1752992979572, lifecycle_stage='active', name='my-experiment-1', tags={}>,\n",
       " <Experiment: artifact_location='s3://mlflow-artifacts-1988/0', creation_time=1752992523064, experiment_id='0', last_update_time=1752992523064, lifecycle_stage='active', name='Default', tags={}>]"
      ]
     },
     "execution_count": 9,
     "metadata": {},
     "output_type": "execute_result"
    }
   ],
   "source": [
    "client.search_experiments()"
   ]
  },
  {
   "cell_type": "code",
   "execution_count": 10,
   "id": "482fdba1",
   "metadata": {},
   "outputs": [
    {
     "name": "stderr",
     "output_type": "stream",
     "text": [
      "Successfully registered model 'iris-classifier'.\n",
      "2025/07/20 07:04:57 WARNING mlflow.tracking._model_registry.fluent: Run with id 4e899ac410aa4d7a8c9d6e714346420e has no artifacts at artifact path 'models', registering model based on models:/m-eb2198ef72dd40df9686610593bf179e instead\n",
      "2025/07/20 07:04:57 INFO mlflow.store.model_registry.abstract_store: Waiting up to 300 seconds for model version to finish creation. Model name: iris-classifier, version 1\n",
      "Created version '1' of model 'iris-classifier'.\n"
     ]
    },
    {
     "data": {
      "text/plain": [
       "<ModelVersion: aliases=[], creation_timestamp=1752995097712, current_stage='None', deployment_job_state=<ModelVersionDeploymentJobState: current_task_name='', job_id='', job_state='DEPLOYMENT_JOB_CONNECTION_STATE_UNSPECIFIED', run_id='', run_state='DEPLOYMENT_JOB_RUN_STATE_UNSPECIFIED'>, description='', last_updated_timestamp=1752995097712, metrics=None, model_id=None, name='iris-classifier', params=None, run_id='4e899ac410aa4d7a8c9d6e714346420e', run_link='', source='models:/m-eb2198ef72dd40df9686610593bf179e', status='READY', status_message=None, tags={}, user_id='', version='1'>"
      ]
     },
     "execution_count": 10,
     "metadata": {},
     "output_type": "execute_result"
    }
   ],
   "source": [
    "run_id = client.search_runs(experiment_ids=['1'])[0].info.run_id\n",
    "mlflow.register_model(\n",
    "    model_uri=f\"runs:/{run_id}/models\",\n",
    "    name='iris-classifier'\n",
    ")"
   ]
  },
  {
   "cell_type": "code",
   "execution_count": null,
   "id": "c1146ae6",
   "metadata": {},
   "outputs": [],
   "source": []
  }
 ],
 "metadata": {
  "kernelspec": {
   "display_name": "exp-tracking-env",
   "language": "python",
   "name": "python3"
  },
  "language_info": {
   "codemirror_mode": {
    "name": "ipython",
    "version": 3
   },
   "file_extension": ".py",
   "mimetype": "text/x-python",
   "name": "python",
   "nbconvert_exporter": "python",
   "pygments_lexer": "ipython3",
   "version": "3.9.23"
  }
 },
 "nbformat": 4,
 "nbformat_minor": 5
}
