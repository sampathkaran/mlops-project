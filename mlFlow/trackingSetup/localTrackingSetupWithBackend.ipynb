{
 "cells": [
  {
   "cell_type": "markdown",
   "id": "df0a3f58",
   "metadata": {},
   "source": [
    "Here the sceanrio is where 1 data scientist member is working\n",
    "\n",
    "MLflow setup:\n",
    "\n",
    "1. Tracking server setup: Local\n",
    "2. Backend Store: SQLite DB\n",
    "3. Artifact Store: Local Filesystem"
   ]
  },
  {
   "cell_type": "markdown",
   "id": "f8459e77",
   "metadata": {},
   "source": []
  },
  {
   "cell_type": "markdown",
   "id": "542f73d2",
   "metadata": {},
   "source": [
    "Here first start the tracking server with sqlite backend\n",
    "\n",
    "''' mlflow server --backend-store-uri sqlite:///backend.db '''"
   ]
  },
  {
   "cell_type": "code",
   "execution_count": 1,
   "id": "5077cf24",
   "metadata": {},
   "outputs": [],
   "source": [
    "import mlflow"
   ]
  },
  {
   "cell_type": "code",
   "execution_count": 2,
   "id": "ec5d9b8c",
   "metadata": {},
   "outputs": [],
   "source": [
    "mlflow.set_tracking_uri(\"http://127.0.0.1:5000\")"
   ]
  },
  {
   "cell_type": "code",
   "execution_count": 4,
   "id": "66158cd2",
   "metadata": {},
   "outputs": [
    {
     "name": "stdout",
     "output_type": "stream",
     "text": [
      "tracking_uri: http://127.0.0.1:5000\n"
     ]
    }
   ],
   "source": [
    "print(f\"tracking_uri: {mlflow.get_tracking_uri()}\")"
   ]
  },
  {
   "cell_type": "code",
   "execution_count": 5,
   "id": "8f832717",
   "metadata": {},
   "outputs": [
    {
     "data": {
      "text/plain": [
       "[<Experiment: artifact_location='mlflow-artifacts:/0', creation_time=1752937824110, experiment_id='0', last_update_time=1752937824110, lifecycle_stage='active', name='Default', tags={}>]"
      ]
     },
     "execution_count": 5,
     "metadata": {},
     "output_type": "execute_result"
    }
   ],
   "source": [
    "mlflow.search_experiments()"
   ]
  },
  {
   "cell_type": "code",
   "execution_count": 6,
   "id": "67b91bc0",
   "metadata": {},
   "outputs": [
    {
     "name": "stderr",
     "output_type": "stream",
     "text": [
      "2025/07/19 15:29:54 INFO mlflow.tracking.fluent: Experiment with name 'my-experiment-1' does not exist. Creating a new experiment.\n",
      "2025/07/19 15:29:54 WARNING mlflow.models.model: `artifact_path` is deprecated. Please use `name` instead.\n",
      "\u001b[31m2025/07/19 15:29:57 WARNING mlflow.models.model: Model logged without a signature and input example. Please set `input_example` parameter when logging the model to auto infer the model signature.\u001b[0m\n"
     ]
    },
    {
     "name": "stdout",
     "output_type": "stream",
     "text": [
      "default artifacts URI: 'mlflow-artifacts:/1/0f56cfa358c543d1bd5a5dc3fb5a3d95/artifacts'\n",
      "🏃 View run abundant-bug-386 at: http://127.0.0.1:5000/#/experiments/1/runs/0f56cfa358c543d1bd5a5dc3fb5a3d95\n",
      "🧪 View experiment at: http://127.0.0.1:5000/#/experiments/1\n"
     ]
    }
   ],
   "source": [
    "from sklearn.linear_model import LogisticRegression\n",
    "from sklearn.datasets import load_iris\n",
    "from sklearn.metrics import accuracy_score\n",
    "\n",
    "mlflow.set_experiment(\"my-experiment-1\")\n",
    "\n",
    "with mlflow.start_run():\n",
    "\n",
    "    X, y = load_iris(return_X_y=True)\n",
    "\n",
    "    params = {\"C\": 0.1, \"random_state\": 42}\n",
    "    mlflow.log_params(params)\n",
    "\n",
    "    lr = LogisticRegression(**params).fit(X, y)\n",
    "    y_pred = lr.predict(X)\n",
    "    mlflow.log_metric(\"accuracy\", accuracy_score(y, y_pred))\n",
    "\n",
    "    mlflow.sklearn.log_model(lr, artifact_path=\"models\")\n",
    "    print(f\"default artifacts URI: '{mlflow.get_artifact_uri()}'\")"
   ]
  },
  {
   "cell_type": "code",
   "execution_count": 7,
   "id": "f5bdc722",
   "metadata": {},
   "outputs": [
    {
     "data": {
      "text/plain": [
       "[<Experiment: artifact_location='mlflow-artifacts:/1', creation_time=1752938994248, experiment_id='1', last_update_time=1752938994248, lifecycle_stage='active', name='my-experiment-1', tags={}>,\n",
       " <Experiment: artifact_location='mlflow-artifacts:/0', creation_time=1752937824110, experiment_id='0', last_update_time=1752937824110, lifecycle_stage='active', name='Default', tags={}>]"
      ]
     },
     "execution_count": 7,
     "metadata": {},
     "output_type": "execute_result"
    }
   ],
   "source": [
    "mlflow.search_experiments()"
   ]
  },
  {
   "cell_type": "markdown",
   "id": "c4e8c54e",
   "metadata": {},
   "source": [
    "Interacting with model registry"
   ]
  },
  {
   "cell_type": "code",
   "execution_count": 10,
   "id": "7a53596c",
   "metadata": {},
   "outputs": [],
   "source": [
    "from mlflow.tracking import MlflowClient\n",
    "\n",
    "client = MlflowClient(\"http://127.0.0.1:5000\")"
   ]
  },
  {
   "cell_type": "code",
   "execution_count": 11,
   "id": "034188e1",
   "metadata": {},
   "outputs": [
    {
     "data": {
      "text/plain": [
       "[]"
      ]
     },
     "execution_count": 11,
     "metadata": {},
     "output_type": "execute_result"
    }
   ],
   "source": [
    "client.search_registered_models()"
   ]
  },
  {
   "cell_type": "code",
   "execution_count": 12,
   "id": "f1bb1a46",
   "metadata": {},
   "outputs": [
    {
     "name": "stderr",
     "output_type": "stream",
     "text": [
      "Successfully registered model 'iris-classification-model'.\n",
      "2025/07/19 15:45:38 WARNING mlflow.tracking._model_registry.fluent: Run with id 0f56cfa358c543d1bd5a5dc3fb5a3d95 has no artifacts at artifact path 'models', registering model based on models:/m-18d53ccc2fbc48da9e2f96144b73644e instead\n",
      "2025/07/19 15:45:38 INFO mlflow.store.model_registry.abstract_store: Waiting up to 300 seconds for model version to finish creation. Model name: iris-classification-model, version 1\n",
      "Created version '1' of model 'iris-classification-model'.\n"
     ]
    },
    {
     "data": {
      "text/plain": [
       "<ModelVersion: aliases=[], creation_timestamp=1752939938893, current_stage='None', deployment_job_state=<ModelVersionDeploymentJobState: current_task_name='', job_id='', job_state='DEPLOYMENT_JOB_CONNECTION_STATE_UNSPECIFIED', run_id='', run_state='DEPLOYMENT_JOB_RUN_STATE_UNSPECIFIED'>, description='', last_updated_timestamp=1752939938893, metrics=None, model_id=None, name='iris-classification-model', params=None, run_id='0f56cfa358c543d1bd5a5dc3fb5a3d95', run_link='', source='models:/m-18d53ccc2fbc48da9e2f96144b73644e', status='READY', status_message=None, tags={}, user_id='', version='1'>"
      ]
     },
     "execution_count": 12,
     "metadata": {},
     "output_type": "execute_result"
    }
   ],
   "source": [
    "#Register a model\n",
    "\n",
    "run_id = client.search_runs(experiment_ids='1')[0].info.run_id\n",
    "mlflow.register_model(\n",
    "    model_uri=f\"runs:/{run_id}/models\",\n",
    "    name = \"iris-classification-model\"\n",
    "    )"
   ]
  },
  {
   "cell_type": "code",
   "execution_count": 13,
   "id": "ffd5a9fd",
   "metadata": {},
   "outputs": [
    {
     "data": {
      "text/plain": [
       "[<RegisteredModel: aliases={}, creation_timestamp=1752939938742, deployment_job_id='', deployment_job_state='DEPLOYMENT_JOB_CONNECTION_STATE_UNSPECIFIED', description='', last_updated_timestamp=1752939938893, latest_versions=[<ModelVersion: aliases=[], creation_timestamp=1752939938893, current_stage='None', deployment_job_state=<ModelVersionDeploymentJobState: current_task_name='', job_id='', job_state='DEPLOYMENT_JOB_CONNECTION_STATE_UNSPECIFIED', run_id='', run_state='DEPLOYMENT_JOB_RUN_STATE_UNSPECIFIED'>, description='', last_updated_timestamp=1752939938893, metrics=None, model_id=None, name='iris-classification-model', params=None, run_id='0f56cfa358c543d1bd5a5dc3fb5a3d95', run_link='', source='models:/m-18d53ccc2fbc48da9e2f96144b73644e', status='READY', status_message=None, tags={}, user_id='', version='1'>], name='iris-classification-model', tags={}>]"
      ]
     },
     "execution_count": 13,
     "metadata": {},
     "output_type": "execute_result"
    }
   ],
   "source": [
    "client.search_registered_models()"
   ]
  }
 ],
 "metadata": {
  "kernelspec": {
   "display_name": "exp-tracking-env",
   "language": "python",
   "name": "python3"
  },
  "language_info": {
   "codemirror_mode": {
    "name": "ipython",
    "version": 3
   },
   "file_extension": ".py",
   "mimetype": "text/x-python",
   "name": "python",
   "nbconvert_exporter": "python",
   "pygments_lexer": "ipython3",
   "version": "3.9.23"
  }
 },
 "nbformat": 4,
 "nbformat_minor": 5
}
